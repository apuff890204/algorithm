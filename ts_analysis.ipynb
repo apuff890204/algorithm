{
  "nbformat": 4,
  "nbformat_minor": 0,
  "metadata": {
    "colab": {
      "name": "Untitled1.ipynb",
      "provenance": [],
      "authorship_tag": "ABX9TyP8o5LuhkQJPGf7sgv7T+hG",
      "include_colab_link": true
    },
    "kernelspec": {
      "name": "python3",
      "display_name": "Python 3"
    }
  },
  "cells": [
    {
      "cell_type": "markdown",
      "metadata": {
        "id": "view-in-github",
        "colab_type": "text"
      },
      "source": [
        "<a href=\"https://colab.research.google.com/github/apuff890204/algorithm/blob/master/ts_analysis.ipynb\" target=\"_parent\"><img src=\"https://colab.research.google.com/assets/colab-badge.svg\" alt=\"Open In Colab\"/></a>"
      ]
    },
    {
      "cell_type": "markdown",
      "metadata": {
        "id": "AePcYdAP8KHF"
      },
      "source": [
        "• ⽅法⼀\n",
        "寫⼀個演算法，每給⼀個年份，就可以通過該演算法計算得到是否閏年的結果"
      ]
    },
    {
      "cell_type": "code",
      "metadata": {
        "id": "sjuZZ8WF3-73",
        "outputId": "50cb712f-b344-47d5-a3f8-a14140c0911b",
        "colab": {
          "base_uri": "https://localhost:8080/"
        }
      },
      "source": [
        "year = int(input())           #輸入年份\n",
        "if year%4 == 0:            #if是閏年的規則  \n",
        "  if year%100 == 0:         #if是閏年的規則 \n",
        "    if year%400 == 0:       #if是閏年的規則 \n",
        "      print(\"該年為閏年\")\n",
        "    else:              #若不在規則內則為平年\n",
        "      print(\"該年為平年\")     \n",
        "  else:                #若不在規則內則為平年\n",
        "    print(\"該年為閏年\")       \n",
        "else:                  #若不在規則內則為平年\n",
        "  print(\"該年為平年\")"
      ],
      "execution_count": 14,
      "outputs": [
        {
          "output_type": "stream",
          "text": [
            "2010\n",
            "該年為平年\n"
          ],
          "name": "stdout"
        }
      ]
    },
    {
      "cell_type": "markdown",
      "metadata": {
        "id": "5G16uJ8B9okX"
      },
      "source": [
        "• ⽅法⼆\n",
        "先建立⼀個所有年份的陣列，然後把所有的年份按下標的數字對應；\n",
        "如果是閏年，則此陣列元素的值是1，如果不是元素的值則為0。\n",
        "這樣，所謂的判斷某⼀年是否為閏年就變成了查詢這個陣列某⼀個元\n",
        "素的值的問題"
      ]
    },
    {
      "cell_type": "code",
      "metadata": {
        "id": "az5hcPi996lN",
        "outputId": "2d44967f-44d1-4aa3-dd14-eec45677b248",
        "colab": {
          "base_uri": "https://localhost:8080/"
        }
      },
      "source": [
        "leap_year = [2000,2004,2008,2012,2016,2020,2024,2028,2032,2036,2040] #列出閏年的年份\n",
        "a = int(input(\"輸入2000~2040區間內的年份\"))\n",
        "if a in leap_year:                          #若為串列的數字則為閏年\n",
        "  print(\"該年為閏年\")\n",
        "else:                                   #否則為平年\n",
        "  print(\"該年為平年\")\n"
      ],
      "execution_count": 17,
      "outputs": [
        {
          "output_type": "stream",
          "text": [
            "輸入2000~2040區間內的年份2000\n",
            "該年為閏年\n"
          ],
          "name": "stdout"
        }
      ]
    }
  ]
}