{
  "nbformat": 4,
  "nbformat_minor": 0,
  "metadata": {
    "colab": {
      "name": "1118期中考.ipynb",
      "provenance": [],
      "authorship_tag": "ABX9TyOsB/HYrW+vvbyWRq4qmSm6",
      "include_colab_link": true
    },
    "kernelspec": {
      "name": "python3",
      "display_name": "Python 3"
    }
  },
  "cells": [
    {
      "cell_type": "markdown",
      "metadata": {
        "id": "view-in-github",
        "colab_type": "text"
      },
      "source": [
        "<a href=\"https://colab.research.google.com/github/apuff890204/algorithm/blob/master/1118%E6%9C%9F%E4%B8%AD%E8%80%83.ipynb\" target=\"_parent\"><img src=\"https://colab.research.google.com/assets/colab-badge.svg\" alt=\"Open In Colab\"/></a>"
      ]
    },
    {
      "cell_type": "markdown",
      "metadata": {
        "id": "HZvSysxcoc-j"
      },
      "source": [
        "選擇排序Selection sort(大到小)\n"
      ]
    },
    {
      "cell_type": "code",
      "metadata": {
        "colab": {
          "base_uri": "https://localhost:8080/"
        },
        "id": "S7Szr6Wyokky",
        "outputId": "478daf9c-2652-41b8-e453-6c2f74e53d86"
      },
      "source": [
        "\n",
        "def Selction_Sort(datas):\n",
        "    a=1\n",
        "    for i in range(len(datas)-1):             \n",
        "        max = i \n",
        "        for j in range(i+1, len(datas)):    \n",
        "            if datas[j] > datas[max]:          #j元素與i元素做比較\n",
        "                max = j              \n",
        "        datas[i], datas[max] = datas[max], datas[i]   #找到最大的值就跟i元素位置作交換(把大的數值都留在前面)   \n",
        "\n",
        "        print(f'第 %d 次排序:{datas}' %a)\n",
        "        a=a+1                             #排序次數增加\n",
        "        print('---'*16)\n",
        "    return datas\n",
        "\n",
        "\n",
        "if __name__ == '__main__':\n",
        "    import random\n",
        "    rannumber = list(random.randint(0,100) for i in range(8)) #從0到100選擇八個隨機數字\n",
        "    random.shuffle(rannumber)\n",
        "    print(\"原始數列為: \",rannumber)\n",
        "    print('---'*16)\n",
        "    randomli = Selction_Sort(rannumber)   "
      ],
      "execution_count": 22,
      "outputs": [
        {
          "output_type": "stream",
          "text": [
            "原始數列為:  [92, 89, 16, 96, 37, 59, 19, 52]\n",
            "------------------------------------------------\n",
            "第 1 次排序:[96, 89, 16, 92, 37, 59, 19, 52]\n",
            "------------------------------------------------\n",
            "第 2 次排序:[96, 92, 16, 89, 37, 59, 19, 52]\n",
            "------------------------------------------------\n",
            "第 3 次排序:[96, 92, 89, 16, 37, 59, 19, 52]\n",
            "------------------------------------------------\n",
            "第 4 次排序:[96, 92, 89, 59, 37, 16, 19, 52]\n",
            "------------------------------------------------\n",
            "第 5 次排序:[96, 92, 89, 59, 52, 16, 19, 37]\n",
            "------------------------------------------------\n",
            "第 6 次排序:[96, 92, 89, 59, 52, 37, 19, 16]\n",
            "------------------------------------------------\n",
            "第 7 次排序:[96, 92, 89, 59, 52, 37, 19, 16]\n",
            "------------------------------------------------\n"
          ],
          "name": "stdout"
        }
      ]
    },
    {
      "cell_type": "markdown",
      "metadata": {
        "id": "8kmMOP1DpuJc"
      },
      "source": [
        "----------------------------------------------------------------------------\n",
        "\n",
        "插入排序Insertion sort(小到大)\n"
      ]
    },
    {
      "cell_type": "code",
      "metadata": {
        "colab": {
          "base_uri": "https://localhost:8080/"
        },
        "id": "oP1a5I_luJUK",
        "outputId": "d57167ca-d0f6-45e2-899a-ccb69d550329"
      },
      "source": [
        "def insertionSort(arr):\n",
        "    a=1\n",
        "    for i in range(len(arr)): \n",
        "        preIndex = i-1 \n",
        "        current = arr[i]  #array暫存資料\n",
        "        while preIndex >= 0 and arr[preIndex] > current:\n",
        "            arr[preIndex+1] = arr[preIndex]   #把所有元素往後移動一個位置\n",
        "            preIndex-=1           \n",
        "        arr[preIndex+1] = current        #把最小的數值放到第一個元素的位置\n",
        "        print(f'第 %d 次排序:{arr}' %a) \n",
        "        a=a+1\n",
        "        print('---'*16)        \n",
        "    return arr\n",
        "\n",
        "if __name__ == '__main__':\n",
        "    import random\n",
        "    rannumber = list(random.randint(0,100) for i in range(8)) #從0到100選擇八個隨機數字\n",
        "    random.shuffle(rannumber)\n",
        "    print(\"原始數列為: \",rannumber)\n",
        "    print('---'*16)\n",
        "    arr = insertionSort(rannumber)"
      ],
      "execution_count": 24,
      "outputs": [
        {
          "output_type": "stream",
          "text": [
            "原始數列為:  [98, 56, 87, 80, 18, 70, 3, 41]\n",
            "------------------------------------------------\n",
            "第 1 次排序:[98, 56, 87, 80, 18, 70, 3, 41]\n",
            "------------------------------------------------\n",
            "第 2 次排序:[56, 98, 87, 80, 18, 70, 3, 41]\n",
            "------------------------------------------------\n",
            "第 3 次排序:[56, 87, 98, 80, 18, 70, 3, 41]\n",
            "------------------------------------------------\n",
            "第 4 次排序:[56, 80, 87, 98, 18, 70, 3, 41]\n",
            "------------------------------------------------\n",
            "第 5 次排序:[18, 56, 80, 87, 98, 70, 3, 41]\n",
            "------------------------------------------------\n",
            "第 6 次排序:[18, 56, 70, 80, 87, 98, 3, 41]\n",
            "------------------------------------------------\n",
            "第 7 次排序:[3, 18, 56, 70, 80, 87, 98, 41]\n",
            "------------------------------------------------\n",
            "第 8 次排序:[3, 18, 41, 56, 70, 80, 87, 98]\n",
            "------------------------------------------------\n"
          ],
          "name": "stdout"
        }
      ]
    }
  ]
}