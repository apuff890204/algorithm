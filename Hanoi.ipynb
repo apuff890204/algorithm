{
  "nbformat": 4,
  "nbformat_minor": 0,
  "metadata": {
    "colab": {
      "name": "Hanoi.ipynb",
      "provenance": [],
      "authorship_tag": "ABX9TyMbnmYTZ0F/NAJuT7Lc1DXo",
      "include_colab_link": true
    },
    "kernelspec": {
      "name": "python3",
      "display_name": "Python 3"
    }
  },
  "cells": [
    {
      "cell_type": "markdown",
      "metadata": {
        "id": "view-in-github",
        "colab_type": "text"
      },
      "source": [
        "<a href=\"https://colab.research.google.com/github/apuff890204/algorithm/blob/master/Hanoi.ipynb\" target=\"_parent\"><img src=\"https://colab.research.google.com/assets/colab-badge.svg\" alt=\"Open In Colab\"/></a>"
      ]
    },
    {
      "cell_type": "markdown",
      "metadata": {
        "id": "ihPlPV5xE5B2"
      },
      "source": [
        "河內塔"
      ]
    },
    {
      "cell_type": "code",
      "metadata": {
        "id": "j-MRqNysE8Jn",
        "outputId": "5dca5f39-790a-43c1-ea4f-e0a6ac3bf87a",
        "colab": {
          "base_uri": "https://localhost:8080/"
        }
      },
      "source": [
        "a = 0\n",
        "def hanoi (n,A,B,C):\n",
        "  global a\n",
        "  a+=1\n",
        "  if n==1:\n",
        "    pass\n",
        "    print(str(n)+\"號圈:\"+A+\"->\"+C)\n",
        "  else:\n",
        "    hanoi(n-1,A,C,B)\n",
        "    print(str(n)+\"號圈:\"+A+\"->\"+C)\n",
        "    hanoi(n-1,B,A,C)\n",
        "\n",
        "ASD = int(input(\"輸入圈數\"))\n",
        "hanoi(ASD,\"A\",\"B\",\"C\")\n",
        "print(\"總共步數:\",a)\n",
        "\n",
        "\n",
        "\n"
      ],
      "execution_count": 18,
      "outputs": [
        {
          "output_type": "stream",
          "text": [
            "輸入圈數5\n",
            "1號圈:A->C\n",
            "2號圈:A->B\n",
            "1號圈:C->B\n",
            "3號圈:A->C\n",
            "1號圈:B->A\n",
            "2號圈:B->C\n",
            "1號圈:A->C\n",
            "4號圈:A->B\n",
            "1號圈:C->B\n",
            "2號圈:C->A\n",
            "1號圈:B->A\n",
            "3號圈:C->B\n",
            "1號圈:A->C\n",
            "2號圈:A->B\n",
            "1號圈:C->B\n",
            "5號圈:A->C\n",
            "1號圈:B->A\n",
            "2號圈:B->C\n",
            "1號圈:A->C\n",
            "3號圈:B->A\n",
            "1號圈:C->B\n",
            "2號圈:C->A\n",
            "1號圈:B->A\n",
            "4號圈:B->C\n",
            "1號圈:A->C\n",
            "2號圈:A->B\n",
            "1號圈:C->B\n",
            "3號圈:A->C\n",
            "1號圈:B->A\n",
            "2號圈:B->C\n",
            "1號圈:A->C\n",
            "總共步數: 31\n"
          ],
          "name": "stdout"
        }
      ]
    }
  ]
}