{
  "nbformat": 4,
  "nbformat_minor": 0,
  "metadata": {
    "colab": {
      "name": "bubblesort.ipynb",
      "provenance": [],
      "include_colab_link": true
    },
    "kernelspec": {
      "name": "python3",
      "display_name": "Python 3"
    }
  },
  "cells": [
    {
      "cell_type": "markdown",
      "metadata": {
        "id": "view-in-github",
        "colab_type": "text"
      },
      "source": [
        "<a href=\"https://colab.research.google.com/github/apuff890204/algorithm/blob/master/0930bubblesort.ipynb\" target=\"_parent\"><img src=\"https://colab.research.google.com/assets/colab-badge.svg\" alt=\"Open In Colab\"/></a>"
      ]
    },
    {
      "cell_type": "markdown",
      "metadata": {
        "id": "32sgU0StMiof"
      },
      "source": [
        "Bubble sort (氣泡排序)"
      ]
    },
    {
      "cell_type": "code",
      "metadata": {
        "id": "esB_4fSeMLYJ",
        "outputId": "442dbe07-62ba-422b-8842-e53fb63ac140",
        "colab": {
          "base_uri": "https://localhost:8080/",
          "height": 68
        }
      },
      "source": [
        "def Bubble_Sort(datas):\n",
        "    for i in range(1, len(datas)): \n",
        "        for j in range(len(datas)-i):   \n",
        "            if datas[j] > datas[j+1]:   \n",
        "                datas[j], datas[j+1] = datas[j+1], datas[j]\n",
        "    return datas\n",
        "\n",
        "\n",
        "if __name__ == '__main__':\n",
        "   aa = []            #創list\n",
        "   a = input(\"輸入六個數\")\n",
        "   aa = a.split();        #split空格\n",
        "   for i in range (len(aa)):  #lem讓字串轉換成數值\n",
        "     aa[i]=int(aa[i])      \n",
        "   random.shuffle(aa)\n",
        "   print(aa)\n",
        "   b = Bubble_Sort(aa)\n",
        "   print(b)\n",
        "\n",
        "\n",
        "  "
      ],
      "execution_count": null,
      "outputs": [
        {
          "output_type": "stream",
          "text": [
            "輸入六個數555 684621 1 0   689416651 3333\n",
            "[689416651, 555, 1, 0, 3333, 684621]\n",
            "[0, 1, 555, 3333, 684621, 689416651]\n"
          ],
          "name": "stdout"
        }
      ]
    },
    {
      "cell_type": "code",
      "metadata": {
        "id": "OrJCc1ff36OL"
      },
      "source": [
        ""
      ],
      "execution_count": null,
      "outputs": []
    },
    {
      "cell_type": "markdown",
      "metadata": {
        "id": "MOQ_aZKnM-wL"
      },
      "source": [
        "請加入註解，並將程式修改為加入六個數做氣泡排序\n"
      ]
    }
  ]
}