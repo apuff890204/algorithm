{
  "nbformat": 4,
  "nbformat_minor": 0,
  "metadata": {
    "colab": {
      "name": "GuessNumber.ipynb",
      "provenance": [],
      "authorship_tag": "ABX9TyO/JYJAQqmvjkDeRqZ+6MEJ",
      "include_colab_link": true
    },
    "kernelspec": {
      "name": "python3",
      "display_name": "Python 3"
    }
  },
  "cells": [
    {
      "cell_type": "markdown",
      "metadata": {
        "id": "view-in-github",
        "colab_type": "text"
      },
      "source": [
        "<a href=\"https://colab.research.google.com/github/apuff890204/algorithm/blob/master/GuessNumber.ipynb\" target=\"_parent\"><img src=\"https://colab.research.google.com/assets/colab-badge.svg\" alt=\"Open In Colab\"/></a>"
      ]
    },
    {
      "cell_type": "markdown",
      "metadata": {
        "id": "GwRPhDUjEsF2"
      },
      "source": [
        "猜數字"
      ]
    },
    {
      "cell_type": "code",
      "metadata": {
        "id": "evKseJY8EweV",
        "outputId": "7c97516e-eb07-46b6-b5be-ad3e8c6655b6",
        "colab": {
          "base_uri": "https://localhost:8080/"
        }
      },
      "source": [
        "from random import randint   \n",
        "\n",
        "min = 0\n",
        "max = 100\n",
        "ans = randint(min, max)\n",
        "\n",
        "\n",
        "while True:\n",
        "    guess = input('密碼介於 ' + str(min) + '-' + str(max) + ':\\n>>')\n",
        "    \n",
        "    \n",
        "    try:\n",
        "        guess = int(guess)        #字串轉換成整數\n",
        "    except Error:             #失敗的話重新輸入數字\n",
        "        print('格式錯誤，請輸入數字\\n')\n",
        "        continue\n",
        "    \n",
        "    \n",
        "    if guess <= min or guess >= max:  #數字是否在範圍\n",
        "        print('請輸入 ' + str(min) + '-' + str(max) + ' 之間的整數\\n')\n",
        "        continue\n",
        "    \n",
        "    \n",
        "    if guess == ans:           #猜中密碼的判斷\n",
        "        print('答對了！')\n",
        "        break   \n",
        "    elif guess < ans:\n",
        "        min = guess\n",
        "    else:\n",
        "        max = guess"
      ],
      "execution_count": 8,
      "outputs": [
        {
          "output_type": "stream",
          "text": [
            "密碼介於 0-100:\n",
            ">>50\n",
            "密碼介於 50-100:\n",
            ">>25\n",
            "請輸入 50-100 之間的整數\n",
            "\n",
            "密碼介於 50-100:\n",
            ">>75\n",
            "密碼介於 75-100:\n",
            ">>86\n",
            "密碼介於 86-100:\n",
            ">>97\n",
            "答對了！\n"
          ],
          "name": "stdout"
        }
      ]
    }
  ]
}