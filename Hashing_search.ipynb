{
  "nbformat": 4,
  "nbformat_minor": 0,
  "metadata": {
    "colab": {
      "name": "Hashing_search.ipynb",
      "provenance": [],
      "authorship_tag": "ABX9TyNQygwnW+hbSdtgzon0QYKf",
      "include_colab_link": true
    },
    "kernelspec": {
      "name": "python3",
      "display_name": "Python 3"
    }
  },
  "cells": [
    {
      "cell_type": "markdown",
      "metadata": {
        "id": "view-in-github",
        "colab_type": "text"
      },
      "source": [
        "<a href=\"https://colab.research.google.com/github/apuff890204/algorithm/blob/master/Hashing_search.ipynb\" target=\"_parent\"><img src=\"https://colab.research.google.com/assets/colab-badge.svg\" alt=\"Open In Colab\"/></a>"
      ]
    },
    {
      "cell_type": "markdown",
      "metadata": {
        "id": "dLY4b39TIBwq"
      },
      "source": [
        "線性探測法"
      ]
    },
    {
      "cell_type": "code",
      "metadata": {
        "id": "FQpLu_ojwGV7",
        "outputId": "8f8bce2f-73d3-4758-90ea-b9a2c03c18d1",
        "colab": {
          "base_uri": "https://localhost:8080/",
          "height": 223
        }
      },
      "source": [
        "import random\n",
        "INDEXBOX = 10\n",
        "MAXNUM = 7\n",
        "def print_data(data,max_number):\n",
        "  print(\"\\t\",end = \"\")\n",
        "  for i in range(max_number):\n",
        "    print(\"[%2d]\"%data[i],end= \"\")\n",
        "  print()\n",
        "\n",
        "def create_table(num,index):\n",
        "  tmp = num%INDEXBOX\n",
        "  while True:\n",
        "    if index[tmp]==-1:\n",
        "      index[tmp]=num\n",
        "      break\n",
        "    else:\n",
        "      tmp=(tmp+1)%INDEXBOX\n",
        "\n",
        "#Main\n",
        "index = [None]*INDEXBOX\n",
        "data = [None]*MAXNUM\n",
        "print(\"原始陣列值:\")\n",
        "for i in range(MAXNUM):\n",
        "  data[i]=random.randint(1,20)\n",
        "for i in range(INDEXBOX):\n",
        "  index[i]=-1\n",
        "print_data(data,MAXNUM)\n",
        "\n",
        "print(\"雜湊表內容:\")\n",
        "for i in range(MAXNUM):\n",
        "  create_table(data[i],index)\n",
        "  print(\" %2d =>\" %data[i],end=\"\")\n",
        "  print_data(index,INDEXBOX)\n",
        "print(\"完成雜湊表:\")\n",
        "print_data(index,INDEXBOX)"
      ],
      "execution_count": 8,
      "outputs": [
        {
          "output_type": "stream",
          "text": [
            "原始陣列值:\n",
            "\t[ 7][13][15][16][ 5][ 3][20]\n",
            "雜湊表內容:\n",
            "  7 =>\t[-1][-1][-1][-1][-1][-1][-1][ 7][-1][-1]\n",
            " 13 =>\t[-1][-1][-1][13][-1][-1][-1][ 7][-1][-1]\n",
            " 15 =>\t[-1][-1][-1][13][-1][15][-1][ 7][-1][-1]\n",
            " 16 =>\t[-1][-1][-1][13][-1][15][16][ 7][-1][-1]\n",
            "  5 =>\t[-1][-1][-1][13][-1][15][16][ 7][ 5][-1]\n",
            "  3 =>\t[-1][-1][-1][13][ 3][15][16][ 7][ 5][-1]\n",
            " 20 =>\t[20][-1][-1][13][ 3][15][16][ 7][ 5][-1]\n",
            "完成雜湊表:\n",
            "\t[20][-1][-1][13][ 3][15][16][ 7][ 5][-1]\n"
          ],
          "name": "stdout"
        }
      ]
    },
    {
      "cell_type": "markdown",
      "metadata": {
        "id": "IAsCC-PDH22x"
      },
      "source": [
        "平方探測法"
      ]
    },
    {
      "cell_type": "code",
      "metadata": {
        "id": "pNysRSg7IH7Z",
        "outputId": "c32bf36e-9317-45a3-d263-941c0f1eb771",
        "colab": {
          "base_uri": "https://localhost:8080/",
          "height": 223
        }
      },
      "source": [
        "import random\n",
        "import math\n",
        "INDEXBOX = 10\n",
        "MAXNUM = 7\n",
        "def print_data(data,max_number):\n",
        "  print(\"\\t\",end = \"\")\n",
        "  for i in range(max_number):\n",
        "    print(\"[%2d]\"%data[i],end= \"\")\n",
        "  print()\n",
        "\n",
        "def create_table(num,index):\n",
        "  tmp = num%INDEXBOX\n",
        "  x = 1\n",
        "  while True:\n",
        "    \n",
        "    if index[tmp]==-1:\n",
        "      index[tmp]=num\n",
        "      break\n",
        "    else:      \n",
        "      tmp=(tmp+int(math.pow(x,2)))%INDEXBOX\n",
        "      x+=1\n",
        "\n",
        "#Main\n",
        "index = [None]*INDEXBOX\n",
        "data = [None]*MAXNUM\n",
        "print(\"原始陣列值:\")\n",
        "for i in range(MAXNUM):\n",
        "  data[i]=random.randint(1,20)\n",
        "for i in range(INDEXBOX):\n",
        "  index[i]=-1\n",
        "print_data(data,MAXNUM)\n",
        "\n",
        "print(\"雜湊表內容:\")\n",
        "for i in range(MAXNUM):\n",
        "  create_table(data[i],index)\n",
        "  print(\" %2d =>\" %data[i],end=\"\")\n",
        "  print_data(index,INDEXBOX)\n",
        "print(\"完成雜湊表:\")\n",
        "print_data(index,INDEXBOX)"
      ],
      "execution_count": 15,
      "outputs": [
        {
          "output_type": "stream",
          "text": [
            "原始陣列值:\n",
            "\t[ 8][16][ 1][ 8][13][ 8][ 7]\n",
            "雜湊表內容:\n",
            "  8 =>\t[-1][-1][-1][-1][-1][-1][-1][-1][ 8][-1]\n",
            " 16 =>\t[-1][-1][-1][-1][-1][-1][16][-1][ 8][-1]\n",
            "  1 =>\t[-1][ 1][-1][-1][-1][-1][16][-1][ 8][-1]\n",
            "  8 =>\t[-1][ 1][-1][-1][-1][-1][16][-1][ 8][ 8]\n",
            " 13 =>\t[-1][ 1][-1][13][-1][-1][16][-1][ 8][ 8]\n",
            "  8 =>\t[-1][ 1][ 8][13][-1][-1][16][-1][ 8][ 8]\n",
            "  7 =>\t[-1][ 1][ 8][13][-1][-1][16][ 7][ 8][ 8]\n",
            "完成雜湊表:\n",
            "\t[-1][ 1][ 8][13][-1][-1][16][ 7][ 8][ 8]\n"
          ],
          "name": "stdout"
        }
      ]
    },
    {
      "cell_type": "markdown",
      "metadata": {
        "id": "GUHzPcb4NEJl"
      },
      "source": [
        "再雜湊"
      ]
    },
    {
      "cell_type": "code",
      "metadata": {
        "id": "O4R00g_oNH2A",
        "outputId": "a1ab59ea-56f9-4385-d408-486bfe3e57aa",
        "colab": {
          "base_uri": "https://localhost:8080/",
          "height": 223
        }
      },
      "source": [
        "import random\n",
        "import math\n",
        "INDEXBOX = 10\n",
        "MAXNUM = 7\n",
        "def print_data(data,max_number):\n",
        "  print(\"\\t\",end = \"\")\n",
        "  for i in range(max_number):\n",
        "    print(\"[%2d]\"%data[i],end= \"\")\n",
        "  print()\n",
        "\n",
        "def create_table(num,index):\n",
        "  tmp = num%INDEXBOX\n",
        "  x = 3\n",
        "  while True:\n",
        "    \n",
        "    if index[tmp]==-1:\n",
        "      index[tmp]=num\n",
        "      break\n",
        "    else:      \n",
        "      tmp=(num+x)%INDEXBOX\n",
        "      x+=3\n",
        "\n",
        "#Main\n",
        "index = [None]*INDEXBOX\n",
        "data = [None]*MAXNUM\n",
        "print(\"原始陣列值:\")\n",
        "for i in range(MAXNUM):\n",
        "  data[i]=random.randint(1,20)\n",
        "for i in range(INDEXBOX):\n",
        "  index[i]=-1\n",
        "print_data(data,MAXNUM)\n",
        "\n",
        "print(\"雜湊表內容:\")\n",
        "for i in range(MAXNUM):\n",
        "  create_table(data[i],index)\n",
        "  print(\" %2d =>\" %data[i],end=\"\")\n",
        "  print_data(index,INDEXBOX)\n",
        "print(\"完成雜湊表:\")\n",
        "print_data(index,INDEXBOX)"
      ],
      "execution_count": 17,
      "outputs": [
        {
          "output_type": "stream",
          "text": [
            "原始陣列值:\n",
            "\t[ 7][10][ 5][ 2][19][ 1][ 9]\n",
            "雜湊表內容:\n",
            "  7 =>\t[-1][-1][-1][-1][-1][-1][-1][ 7][-1][-1]\n",
            " 10 =>\t[10][-1][-1][-1][-1][-1][-1][ 7][-1][-1]\n",
            "  5 =>\t[10][-1][-1][-1][-1][ 5][-1][ 7][-1][-1]\n",
            "  2 =>\t[10][-1][ 2][-1][-1][ 5][-1][ 7][-1][-1]\n",
            " 19 =>\t[10][-1][ 2][-1][-1][ 5][-1][ 7][-1][19]\n",
            "  1 =>\t[10][ 1][ 2][-1][-1][ 5][-1][ 7][-1][19]\n",
            "  9 =>\t[10][ 1][ 2][-1][-1][ 5][-1][ 7][ 9][19]\n",
            "完成雜湊表:\n",
            "\t[10][ 1][ 2][-1][-1][ 5][-1][ 7][ 9][19]\n"
          ],
          "name": "stdout"
        }
      ]
    }
  ]
}