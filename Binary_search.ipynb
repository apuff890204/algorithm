{
  "nbformat": 4,
  "nbformat_minor": 0,
  "metadata": {
    "colab": {
      "name": "Binary_search.ipynb",
      "provenance": [],
      "authorship_tag": "ABX9TyNinvUsv3UyDvhD3fEV9MfR",
      "include_colab_link": true
    },
    "kernelspec": {
      "name": "python3",
      "display_name": "Python 3"
    }
  },
  "cells": [
    {
      "cell_type": "markdown",
      "metadata": {
        "id": "view-in-github",
        "colab_type": "text"
      },
      "source": [
        "<a href=\"https://colab.research.google.com/github/apuff890204/algorithm/blob/master/Binary_search.ipynb\" target=\"_parent\"><img src=\"https://colab.research.google.com/assets/colab-badge.svg\" alt=\"Open In Colab\"/></a>"
      ]
    },
    {
      "cell_type": "code",
      "metadata": {
        "id": "IyVC3o4PySq7",
        "outputId": "5423e689-b1b3-44cf-8e66-681b8643e258",
        "colab": {
          "base_uri": "https://localhost:8080/",
          "height": 34
        }
      },
      "source": [
        "def binarySearch(arr,l,r,x):\n",
        "  if r >= l:\n",
        "    mid = l+(r - 1)//2\n",
        "    if arr[mid]==x:\n",
        "      return mid\n",
        "    elif arr[mid]>x:\n",
        "      return binarySearch(arr,l,mid-1,x)\n",
        "    else:\n",
        "      return binarySearch(arr,mid+1,r,x)\n",
        "  else:\n",
        "    return-1\n",
        "arr = [5,8,9,15,30]\n",
        "x = 15\n",
        "\n",
        "#Funtion call\n",
        "result = binarySearch(arr,0,len(arr)-1,x)\n",
        "\n",
        "if result != -1:\n",
        "  print(\"元素在索引 %d\" %result)\n",
        "else:\n",
        "  print(\"陣列中找不到該元素\")\n"
      ],
      "execution_count": 3,
      "outputs": [
        {
          "output_type": "stream",
          "text": [
            "元素在索引 3\n"
          ],
          "name": "stdout"
        }
      ]
    },
    {
      "cell_type": "code",
      "metadata": {
        "id": "aYZVqE31_p9v",
        "outputId": "85f25c01-2240-4b32-df55-3ea34891476e",
        "colab": {
          "base_uri": "https://localhost:8080/",
          "height": 170
        }
      },
      "source": [
        "def binarySearch(arr,l,r,x):\n",
        "  if r >= l:\n",
        "    mid = l+(r - 1)//2\n",
        "    if arr[mid]==x:\n",
        "      return mid\n",
        "    elif arr[mid]>x:\n",
        "      return binarySearch(arr,l,mid-1,x)\n",
        "    else:\n",
        "      return binarySearch(arr,mid+1,r,x)\n",
        "  else:\n",
        "    return-1\n",
        "def Bubble_Sort(datas):\n",
        "    for i in range(1, len(datas)): \n",
        "        for j in range(len(datas)-i):   \n",
        "            if datas[j] > datas[j+1]:   \n",
        "                datas[j], datas[j+1] = datas[j+1], datas[j]\n",
        "    return datas\n",
        "\n",
        "arr = []\n",
        "for i in range(0,5):    #輸入的5個值\n",
        "  arr.append(int(input()))   \n",
        "print(arr)          #輸入的五個值(排序前)\n",
        "\n",
        "arr = Bubble_Sort(arr)\n",
        "\n",
        "print(arr)          #輸入的五個值(排序後)\n",
        "\n",
        "x = 9            #要搜尋的key value\n",
        "print(\"想找的數%d \"%x)\n",
        "\n",
        "#Funtion call\n",
        "result = binarySearch(arr,0,len(arr)-1,x)\n",
        "\n",
        "if result != -1:\n",
        "  print(\"元素在索引 %d\" %result)\n",
        "else:\n",
        "  print(\"陣列中找不到該元素\")  #二元搜尋的結果\n"
      ],
      "execution_count": 19,
      "outputs": [
        {
          "output_type": "stream",
          "text": [
            "536\n",
            "9\n",
            "2\n",
            "10\n",
            "86\n",
            "[536, 9, 2, 10, 86]\n",
            "[2, 9, 10, 86, 536]\n",
            "想找的數9 \n",
            "元素在索引 1\n"
          ],
          "name": "stdout"
        }
      ]
    }
  ]
}