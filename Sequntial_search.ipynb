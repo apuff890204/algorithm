{
  "nbformat": 4,
  "nbformat_minor": 0,
  "metadata": {
    "colab": {
      "name": "Sequntial_search.ipynb",
      "provenance": [],
      "authorship_tag": "ABX9TyMKVDcz4IjQeOIhKvxXdyFX",
      "include_colab_link": true
    },
    "kernelspec": {
      "name": "python3",
      "display_name": "Python 3"
    }
  },
  "cells": [
    {
      "cell_type": "markdown",
      "metadata": {
        "id": "view-in-github",
        "colab_type": "text"
      },
      "source": [
        "<a href=\"https://colab.research.google.com/github/apuff890204/algorithm/blob/master/Sequntial_search.ipynb\" target=\"_parent\"><img src=\"https://colab.research.google.com/assets/colab-badge.svg\" alt=\"Open In Colab\"/></a>"
      ]
    },
    {
      "cell_type": "code",
      "metadata": {
        "id": "16wMWcQ0xGIE",
        "outputId": "4ee8970b-bf27-41e8-9872-41ec33448820",
        "colab": {
          "base_uri": "https://localhost:8080/",
          "height": 51
        }
      },
      "source": [
        "data = [20,31,50,17,16,36,19,8]\n",
        "def sequential_search(data,key):\n",
        "  for i in data:\n",
        "    if i == key:\n",
        "      print(\"找到了\")\n",
        "      break  \n",
        "  else:      \n",
        "    print(\"找不到\")\n",
        "         \n",
        "sequential_search(data,6)\n",
        "sequential_search(data,50)"
      ],
      "execution_count": 28,
      "outputs": [
        {
          "output_type": "stream",
          "text": [
            "找不到\n",
            "找到了\n"
          ],
          "name": "stdout"
        }
      ]
    }
  ]
}