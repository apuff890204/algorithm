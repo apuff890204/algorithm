{
  "nbformat": 4,
  "nbformat_minor": 0,
  "metadata": {
    "colab": {
      "name": "insertionsort.ipynb",
      "provenance": [],
      "collapsed_sections": [],
      "include_colab_link": true
    },
    "kernelspec": {
      "name": "python3",
      "display_name": "Python 3"
    }
  },
  "cells": [
    {
      "cell_type": "markdown",
      "metadata": {
        "id": "view-in-github",
        "colab_type": "text"
      },
      "source": [
        "<a href=\"https://colab.research.google.com/github/apuff890204/algorithm/blob/master/0930insertionsort.ipynb\" target=\"_parent\"><img src=\"https://colab.research.google.com/assets/colab-badge.svg\" alt=\"Open In Colab\"/></a>"
      ]
    },
    {
      "cell_type": "markdown",
      "metadata": {
        "id": "j95w6SLwOC0z"
      },
      "source": [
        "Insertion sort (插入排序)"
      ]
    },
    {
      "cell_type": "code",
      "metadata": {
        "id": "BxBaYEwzNj_v",
        "outputId": "0efecff6-4198-432d-c814-4f82cc970128",
        "colab": {
          "base_uri": "https://localhost:8080/",
          "height": 306
        }
      },
      "source": [
        "\n",
        "def Insertion_Sort(datas):\n",
        "    for i in range(1, len(datas)):    #(n-1+1)\n",
        "        for j in range(i):            # {[(1+2+3+...+n)]+1} = {[n(n+1)/2]+1} \n",
        "            current = datas[i]        # {[n(n+1)/2]}\n",
        "            if current < datas[j]:    # 0\n",
        "                for k in range(i,j):  # {[0 + 1 + 1+2 + 1+2+3 + ... 1+...[n-1]]}=[(n-1)*(n)*(n+1)/6]\n",
        "                  print(datas)        # 0   \n",
        "    return datas                      # 1\n",
        "                                      # O(n^3)\n",
        "\n",
        "def insertionSort(arr):\n",
        "    for i in range(len(arr)):                               #(n+1)\n",
        "        preIndex = i-1                                      #(n)\n",
        "        current = arr[i]                                    #(n)\n",
        "        while preIndex >= 0 and arr[preIndex] > current:\n",
        "            arr[preIndex+1] = arr[preIndex]\n",
        "            preIndex-=1\n",
        "        arr[preIndex+1] = current                           #(n)\n",
        "        print(arr)                                          #(n)\n",
        "    return arr                                              # 1\n",
        "                                                            # O(n)\n",
        "if __name__ == '__main__':\n",
        "    import random\n",
        "    a = list(range(16))\n",
        "    random.shuffle(a)\n",
        "    b = a.copy()\n",
        "\n",
        "    arr = insertionSort(a)\n",
        "    print('---'*16)\n",
        "    Insertion_Sort(b)"
      ],
      "execution_count": null,
      "outputs": [
        {
          "output_type": "stream",
          "text": [
            "[0, 4, 1, 11, 12, 5, 15, 14, 7, 13, 6, 8, 9, 2, 10, 3]\n",
            "[0, 4, 1, 11, 12, 5, 15, 14, 7, 13, 6, 8, 9, 2, 10, 3]\n",
            "[0, 1, 4, 11, 12, 5, 15, 14, 7, 13, 6, 8, 9, 2, 10, 3]\n",
            "[0, 1, 4, 11, 12, 5, 15, 14, 7, 13, 6, 8, 9, 2, 10, 3]\n",
            "[0, 1, 4, 11, 12, 5, 15, 14, 7, 13, 6, 8, 9, 2, 10, 3]\n",
            "[0, 1, 4, 5, 11, 12, 15, 14, 7, 13, 6, 8, 9, 2, 10, 3]\n",
            "[0, 1, 4, 5, 11, 12, 15, 14, 7, 13, 6, 8, 9, 2, 10, 3]\n",
            "[0, 1, 4, 5, 11, 12, 14, 15, 7, 13, 6, 8, 9, 2, 10, 3]\n",
            "[0, 1, 4, 5, 7, 11, 12, 14, 15, 13, 6, 8, 9, 2, 10, 3]\n",
            "[0, 1, 4, 5, 7, 11, 12, 13, 14, 15, 6, 8, 9, 2, 10, 3]\n",
            "[0, 1, 4, 5, 6, 7, 11, 12, 13, 14, 15, 8, 9, 2, 10, 3]\n",
            "[0, 1, 4, 5, 6, 7, 8, 11, 12, 13, 14, 15, 9, 2, 10, 3]\n",
            "[0, 1, 4, 5, 6, 7, 8, 9, 11, 12, 13, 14, 15, 2, 10, 3]\n",
            "[0, 1, 2, 4, 5, 6, 7, 8, 9, 11, 12, 13, 14, 15, 10, 3]\n",
            "[0, 1, 2, 4, 5, 6, 7, 8, 9, 10, 11, 12, 13, 14, 15, 3]\n",
            "[0, 1, 2, 3, 4, 5, 6, 7, 8, 9, 10, 11, 12, 13, 14, 15]\n",
            "------------------------------------------------\n"
          ],
          "name": "stdout"
        }
      ]
    }
  ]
}