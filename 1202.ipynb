{
  "nbformat": 4,
  "nbformat_minor": 0,
  "metadata": {
    "colab": {
      "name": "1202.ipynb",
      "provenance": [],
      "authorship_tag": "ABX9TyMWGx6lf1chqhvjINZg7vEp",
      "include_colab_link": true
    },
    "kernelspec": {
      "name": "python3",
      "display_name": "Python 3"
    }
  },
  "cells": [
    {
      "cell_type": "markdown",
      "metadata": {
        "id": "view-in-github",
        "colab_type": "text"
      },
      "source": [
        "<a href=\"https://colab.research.google.com/github/apuff890204/algorithm/blob/master/1202.ipynb\" target=\"_parent\"><img src=\"https://colab.research.google.com/assets/colab-badge.svg\" alt=\"Open In Colab\"/></a>"
      ]
    },
    {
      "cell_type": "markdown",
      "metadata": {
        "id": "fe_dkUTfOb85"
      },
      "source": [
        "貪婪法則"
      ]
    },
    {
      "cell_type": "code",
      "metadata": {
        "colab": {
          "base_uri": "https://localhost:8080/"
        },
        "id": "nlQgQUGZ_hC_",
        "outputId": "dece82de-fbcf-475d-ea09-d8f335d49919"
      },
      "source": [
        "#t=面額\n",
        "t = [25,20,5,1]\n",
        "a = int(input(\"輸入數值:\"))\n",
        "#n=多少錢\n",
        "def change (t,n):\n",
        "\n",
        "  m = [0 for _ in range(len(t))]\n",
        "  for i, money in enumerate(t):\n",
        "    m[i] = n //money\n",
        "    n = n % money\n",
        "    print(m,n)\n",
        "  ##return m,n\n",
        "change(t,a);"
      ],
      "execution_count": null,
      "outputs": [
        {
          "output_type": "stream",
          "text": [
            "輸入數值:102\n",
            "[4, 0, 0, 0] 2\n",
            "[4, 0, 0, 0] 2\n",
            "[4, 0, 0, 0] 2\n",
            "[4, 0, 0, 2] 0\n"
          ],
          "name": "stdout"
        }
      ]
    },
    {
      "cell_type": "markdown",
      "metadata": {
        "id": "ccp9L0g6Off9"
      },
      "source": [
        "---------------------------------------------------------------"
      ]
    },
    {
      "cell_type": "markdown",
      "metadata": {
        "id": "73KEJEeOOil9"
      },
      "source": [
        "動態規則DP"
      ]
    },
    {
      "cell_type": "code",
      "metadata": {
        "colab": {
          "base_uri": "https://localhost:8080/"
        },
        "id": "rZUHLUQ0LrT5",
        "outputId": "6db3557d-2d70-44f0-86c8-618177ea021e"
      },
      "source": [
        "\n",
        "class Solution(object):\n",
        "   def coinChange(self, coins, amount):\n",
        "      if amount == 0 :\n",
        "         return 0\n",
        "      if min(coins) > amount:\n",
        "         return -1\n",
        "      dp = [-1 for i in range(0, amount + 1)]\n",
        "      for i in coins:\n",
        "         if i > len(dp) - 1:\n",
        "            continue\n",
        "         dp[i] = 1\n",
        "         for j in range(i + 1, amount + 1):\n",
        "            if dp[j - i] == -1:\n",
        "               continue\n",
        "            elif dp[j] == -1:\n",
        "               dp[j] = dp[j - i] + 1\n",
        "            else:\n",
        "               dp[j] = min(dp[j], dp[j - i] + 1)\n",
        "         #print(dp)\n",
        "      return dp[amount]\n",
        "ob1 = Solution()\n",
        "print(ob1.coinChange([25,20,5,1], 41))"
      ],
      "execution_count": null,
      "outputs": [
        {
          "output_type": "stream",
          "text": [
            "3\n"
          ],
          "name": "stdout"
        }
      ]
    },
    {
      "cell_type": "markdown",
      "metadata": {
        "id": "GneYEDzjT9Ha"
      },
      "source": [
        "---------------------------------------------------------------"
      ]
    },
    {
      "cell_type": "markdown",
      "metadata": {
        "id": "aJ6vgCQmWC1G"
      },
      "source": [
        "小偷|貪婪法則"
      ]
    },
    {
      "cell_type": "code",
      "metadata": {
        "id": "I614hKqDgEmt",
        "outputId": "243f0bae-0222-4ff9-dc3e-a0ae5a13b3d8",
        "colab": {
          "base_uri": "https://localhost:8080/"
        }
      },
      "source": [
        "\n",
        "N =5\n",
        "Name = [\"PS5\",\"iPad pro 12\",\"Macbook pro 15\",\"HomePod\",\"Mac mini\"]\n",
        "Weight = [5,1,4,3,2]\n",
        "Value = [17000,35000,50000,9000,20000]\n",
        "C =10\n",
        "\n",
        "def bag(n,w,v,c,a):\n",
        "  x = [] #背包內物品，什麼都還沒拿，預設為0\n",
        "  m = 0 #背包內物品總重，什麼都還沒拿，預設為0\n",
        "  t = 0 #背包內物品價值，什麼都還沒拿，預設為0\n",
        "  while True:\n",
        "    if (m + w[v.index(max(v))] < c):\n",
        "      m += w[v.index(max(v))]\n",
        "      t += max(v)\n",
        "      #x.append(Name.index(max(v)))\n",
        "      removeValue = max(v) #先將要移除的值的index記下，免得先移除後index亂掉，會移除錯項目\n",
        "      removeWeight = w[v.index(max(v))] #同上\n",
        "      removeName = a[v.index(max(v))]\n",
        "      x.append(a[v.index(max(v))])\n",
        "      v.remove(removeValue)  #每項物品只能拿一次，拿過就刪掉\n",
        "      w.remove(removeWeight) #同上\n",
        "      a.remove(removeName) #同上\n",
        "    else:\n",
        "      break\n",
        "  return (m,t,x)\n",
        "\n",
        "print(bag(N,Weight,Value,C,Name))\n"
      ],
      "execution_count": 2,
      "outputs": [
        {
          "output_type": "stream",
          "text": [
            "(7, 105000, ['Macbook pro 15', 'iPad pro 12', 'Mac mini'])\n"
          ],
          "name": "stdout"
        }
      ]
    },
    {
      "cell_type": "markdown",
      "metadata": {
        "id": "dFisTsCkmOM1"
      },
      "source": [
        "---------------------------------------------------------------\n",
        "小偷|DP"
      ]
    },
    {
      "cell_type": "code",
      "metadata": {
        "id": "ZE034CM8mXKG",
        "outputId": "be99b49c-175a-4c90-f408-8b3e8495ca13",
        "colab": {
          "base_uri": "https://localhost:8080/"
        }
      },
      "source": [
        "# A naive recursive implementation of 0-1 Knapsack Problem \n",
        "  \n",
        "# Returns the maximum value that can be put in a knapsack of \n",
        "# capacity W \n",
        "def knapSack(W, wt, val, n): \n",
        "  \n",
        "    # Base Case \n",
        "    if n == 0 or W == 0 : \n",
        "        return 0\n",
        "  \n",
        "    # If weight of the nth item is more than Knapsack of capacity \n",
        "    # W, then this item cannot be included in the optimal solution \n",
        "    if (wt[n-1] > W): \n",
        "        return knapSack(W, wt, val, n-1) \n",
        "  \n",
        "    # return the maximum of two cases: \n",
        "    # (1) nth item included \n",
        "    # (2) not included \n",
        "    else: \n",
        "        return max(val[n-1] + knapSack(W-wt[n-1], wt, val, n-1), \n",
        "                   knapSack(W, wt, val, n-1)) \n",
        "  \n",
        "# end of function knapSack \n",
        "  \n",
        "# To test above function \n",
        "val = [17000,35000,60000,9000,20000] \n",
        "wt = [5,1,4,3,2]\n",
        "W = 10\n",
        "n = len(val)\n",
        "print(knapSack(W, wt, val, n))\n",
        "\n",
        "# This code is contributed by Nikhil Kumar Singh"
      ],
      "execution_count": 3,
      "outputs": [
        {
          "output_type": "stream",
          "text": [
            "124000\n"
          ],
          "name": "stdout"
        }
      ]
    }
  ]
}