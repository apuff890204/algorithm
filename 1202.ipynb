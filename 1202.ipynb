{
  "nbformat": 4,
  "nbformat_minor": 0,
  "metadata": {
    "colab": {
      "name": "1202.ipynb",
      "provenance": [],
      "authorship_tag": "ABX9TyMCzj8EezUYfcj6L4wqePBz",
      "include_colab_link": true
    },
    "kernelspec": {
      "name": "python3",
      "display_name": "Python 3"
    }
  },
  "cells": [
    {
      "cell_type": "markdown",
      "metadata": {
        "id": "view-in-github",
        "colab_type": "text"
      },
      "source": [
        "<a href=\"https://colab.research.google.com/github/apuff890204/algorithm/blob/master/1202.ipynb\" target=\"_parent\"><img src=\"https://colab.research.google.com/assets/colab-badge.svg\" alt=\"Open In Colab\"/></a>"
      ]
    },
    {
      "cell_type": "markdown",
      "metadata": {
        "id": "fe_dkUTfOb85"
      },
      "source": [
        "貪婪法則"
      ]
    },
    {
      "cell_type": "code",
      "metadata": {
        "colab": {
          "base_uri": "https://localhost:8080/"
        },
        "id": "nlQgQUGZ_hC_",
        "outputId": "dece82de-fbcf-475d-ea09-d8f335d49919"
      },
      "source": [
        "#t=面額\n",
        "t = [25,20,5,1]\n",
        "a = int(input(\"輸入數值:\"))\n",
        "#n=多少錢\n",
        "def change (t,n):\n",
        "\n",
        "  m = [0 for _ in range(len(t))]\n",
        "  for i, money in enumerate(t):\n",
        "    m[i] = n //money\n",
        "    n = n % money\n",
        "    print(m,n)\n",
        "  ##return m,n\n",
        "change(t,a);"
      ],
      "execution_count": 23,
      "outputs": [
        {
          "output_type": "stream",
          "text": [
            "輸入數值:102\n",
            "[4, 0, 0, 0] 2\n",
            "[4, 0, 0, 0] 2\n",
            "[4, 0, 0, 0] 2\n",
            "[4, 0, 0, 2] 0\n"
          ],
          "name": "stdout"
        }
      ]
    },
    {
      "cell_type": "markdown",
      "metadata": {
        "id": "ccp9L0g6Off9"
      },
      "source": [
        "---------------------------------------------------------------"
      ]
    },
    {
      "cell_type": "markdown",
      "metadata": {
        "id": "73KEJEeOOil9"
      },
      "source": [
        "動態規則DP"
      ]
    },
    {
      "cell_type": "code",
      "metadata": {
        "colab": {
          "base_uri": "https://localhost:8080/"
        },
        "id": "rZUHLUQ0LrT5",
        "outputId": "6db3557d-2d70-44f0-86c8-618177ea021e"
      },
      "source": [
        "\n",
        "class Solution(object):\n",
        "   def coinChange(self, coins, amount):\n",
        "      if amount == 0 :\n",
        "         return 0\n",
        "      if min(coins) > amount:\n",
        "         return -1\n",
        "      dp = [-1 for i in range(0, amount + 1)]\n",
        "      for i in coins:\n",
        "         if i > len(dp) - 1:\n",
        "            continue\n",
        "         dp[i] = 1\n",
        "         for j in range(i + 1, amount + 1):\n",
        "            if dp[j - i] == -1:\n",
        "               continue\n",
        "            elif dp[j] == -1:\n",
        "               dp[j] = dp[j - i] + 1\n",
        "            else:\n",
        "               dp[j] = min(dp[j], dp[j - i] + 1)\n",
        "         #print(dp)\n",
        "      return dp[amount]\n",
        "ob1 = Solution()\n",
        "print(ob1.coinChange([25,20,5,1], 41))"
      ],
      "execution_count": 34,
      "outputs": [
        {
          "output_type": "stream",
          "text": [
            "3\n"
          ],
          "name": "stdout"
        }
      ]
    },
    {
      "cell_type": "markdown",
      "metadata": {
        "id": "GneYEDzjT9Ha"
      },
      "source": [
        "---------------------------------------------------------------"
      ]
    },
    {
      "cell_type": "markdown",
      "metadata": {
        "id": "aJ6vgCQmWC1G"
      },
      "source": [
        "小偷|貪婪法則"
      ]
    },
    {
      "cell_type": "code",
      "metadata": {
        "id": "I614hKqDgEmt"
      },
      "source": [
        "\n"
      ],
      "execution_count": 66,
      "outputs": []
    }
  ]
}